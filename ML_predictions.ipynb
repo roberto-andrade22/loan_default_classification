{
 "cells": [
  {
   "cell_type": "markdown",
   "metadata": {},
   "source": [
    "# Model Selection and Tuning\n",
    "\n",
    "This file is concerned with trying different ML algorithms for classification, focusing exclusively on predictive power and starting from the simplest model to the most complicated. We will use the processed data created from the data_preparation.ipynb file, which is a csv named 'train_data_processed.csv'.\n",
    "\n",
    "The objective of the models is to accurately predict if a client with certain characteristics will default on a loan when asking for it. As we do not know the associated costs with a client not paying back nor the benefits of a client repaying, we will focus on Area Under Curve as the performance metric.\n",
    "\n",
    "Every model will be trained, tuned and cross-validated using the sci-kit learn library."
   ]
  },
  {
   "cell_type": "code",
   "execution_count": 1,
   "metadata": {},
   "outputs": [],
   "source": [
    "import pandas as pd\n",
    "import numpy as np\n",
    "import os\n",
    "import time\n",
    "from sklearn.model_selection import cross_val_score\n",
    "from sklearn.model_selection import GridSearchCV\n",
    "\n",
    "jobs = os.cpu_count()-1 ## A lot of power."
   ]
  },
  {
   "cell_type": "code",
   "execution_count": 2,
   "metadata": {},
   "outputs": [
    {
     "data": {
      "text/html": [
       "<div>\n",
       "<style scoped>\n",
       "    .dataframe tbody tr th:only-of-type {\n",
       "        vertical-align: middle;\n",
       "    }\n",
       "\n",
       "    .dataframe tbody tr th {\n",
       "        vertical-align: top;\n",
       "    }\n",
       "\n",
       "    .dataframe thead th {\n",
       "        text-align: right;\n",
       "    }\n",
       "</style>\n",
       "<table border=\"1\" class=\"dataframe\">\n",
       "  <thead>\n",
       "    <tr style=\"text-align: right;\">\n",
       "      <th></th>\n",
       "      <th>AMT_ANNUITY</th>\n",
       "      <th>OBS_30_CNT_SOCIAL_CIRCLE</th>\n",
       "      <th>DEF_30_CNT_SOCIAL_CIRCLE</th>\n",
       "      <th>OBS_60_CNT_SOCIAL_CIRCLE</th>\n",
       "      <th>DEF_60_CNT_SOCIAL_CIRCLE</th>\n",
       "      <th>EXT_SOURCE_1</th>\n",
       "      <th>EXT_SOURCE_2</th>\n",
       "      <th>EXT_SOURCE_3</th>\n",
       "      <th>CNT_CHILDREN</th>\n",
       "      <th>AMT_INCOME_TOTAL</th>\n",
       "      <th>...</th>\n",
       "      <th>ORGANIZATION_TYPE_Trade: type 6</th>\n",
       "      <th>ORGANIZATION_TYPE_Trade: type 7</th>\n",
       "      <th>ORGANIZATION_TYPE_Transport: type 1</th>\n",
       "      <th>ORGANIZATION_TYPE_Transport: type 2</th>\n",
       "      <th>ORGANIZATION_TYPE_Transport: type 3</th>\n",
       "      <th>ORGANIZATION_TYPE_Transport: type 4</th>\n",
       "      <th>ORGANIZATION_TYPE_University</th>\n",
       "      <th>ORGANIZATION_TYPE_XNA</th>\n",
       "      <th>REGION_POPULATION_RELATIVE</th>\n",
       "      <th>TARGET</th>\n",
       "    </tr>\n",
       "  </thead>\n",
       "  <tbody>\n",
       "    <tr>\n",
       "      <th>0</th>\n",
       "      <td>-0.166149</td>\n",
       "      <td>0.241033</td>\n",
       "      <td>4.163149</td>\n",
       "      <td>0.250314</td>\n",
       "      <td>5.253007</td>\n",
       "      <td>0.083037</td>\n",
       "      <td>0.262949</td>\n",
       "      <td>0.139376</td>\n",
       "      <td>-0.577538</td>\n",
       "      <td>0.142129</td>\n",
       "      <td>...</td>\n",
       "      <td>0.0</td>\n",
       "      <td>0.0</td>\n",
       "      <td>0.0</td>\n",
       "      <td>0.0</td>\n",
       "      <td>0.0</td>\n",
       "      <td>0.0</td>\n",
       "      <td>0.0</td>\n",
       "      <td>0.0</td>\n",
       "      <td>0.018801</td>\n",
       "      <td>1</td>\n",
       "    </tr>\n",
       "    <tr>\n",
       "      <th>1</th>\n",
       "      <td>0.592677</td>\n",
       "      <td>-0.176156</td>\n",
       "      <td>-0.321603</td>\n",
       "      <td>-0.170589</td>\n",
       "      <td>-0.276616</td>\n",
       "      <td>0.311267</td>\n",
       "      <td>0.622246</td>\n",
       "      <td>0.510853</td>\n",
       "      <td>-0.577538</td>\n",
       "      <td>0.426792</td>\n",
       "      <td>...</td>\n",
       "      <td>0.0</td>\n",
       "      <td>0.0</td>\n",
       "      <td>0.0</td>\n",
       "      <td>0.0</td>\n",
       "      <td>0.0</td>\n",
       "      <td>0.0</td>\n",
       "      <td>0.0</td>\n",
       "      <td>0.0</td>\n",
       "      <td>0.003541</td>\n",
       "      <td>0</td>\n",
       "    </tr>\n",
       "    <tr>\n",
       "      <th>2</th>\n",
       "      <td>-1.404676</td>\n",
       "      <td>-0.593345</td>\n",
       "      <td>-0.321603</td>\n",
       "      <td>-0.591491</td>\n",
       "      <td>-0.276616</td>\n",
       "      <td>0.502130</td>\n",
       "      <td>0.555912</td>\n",
       "      <td>0.729567</td>\n",
       "      <td>-0.577538</td>\n",
       "      <td>-0.427196</td>\n",
       "      <td>...</td>\n",
       "      <td>0.0</td>\n",
       "      <td>0.0</td>\n",
       "      <td>0.0</td>\n",
       "      <td>0.0</td>\n",
       "      <td>0.0</td>\n",
       "      <td>0.0</td>\n",
       "      <td>0.0</td>\n",
       "      <td>0.0</td>\n",
       "      <td>0.010032</td>\n",
       "      <td>0</td>\n",
       "    </tr>\n",
       "    <tr>\n",
       "      <th>3</th>\n",
       "      <td>0.177869</td>\n",
       "      <td>0.241033</td>\n",
       "      <td>-0.321603</td>\n",
       "      <td>0.250314</td>\n",
       "      <td>-0.276616</td>\n",
       "      <td>0.502130</td>\n",
       "      <td>0.650442</td>\n",
       "      <td>0.510853</td>\n",
       "      <td>-0.577538</td>\n",
       "      <td>-0.142533</td>\n",
       "      <td>...</td>\n",
       "      <td>0.0</td>\n",
       "      <td>0.0</td>\n",
       "      <td>0.0</td>\n",
       "      <td>0.0</td>\n",
       "      <td>0.0</td>\n",
       "      <td>0.0</td>\n",
       "      <td>0.0</td>\n",
       "      <td>0.0</td>\n",
       "      <td>0.008019</td>\n",
       "      <td>0</td>\n",
       "    </tr>\n",
       "    <tr>\n",
       "      <th>4</th>\n",
       "      <td>-0.361755</td>\n",
       "      <td>-0.593345</td>\n",
       "      <td>-0.321603</td>\n",
       "      <td>-0.591491</td>\n",
       "      <td>-0.276616</td>\n",
       "      <td>0.502130</td>\n",
       "      <td>0.322738</td>\n",
       "      <td>0.510853</td>\n",
       "      <td>-0.577538</td>\n",
       "      <td>-0.199466</td>\n",
       "      <td>...</td>\n",
       "      <td>0.0</td>\n",
       "      <td>0.0</td>\n",
       "      <td>0.0</td>\n",
       "      <td>0.0</td>\n",
       "      <td>0.0</td>\n",
       "      <td>0.0</td>\n",
       "      <td>0.0</td>\n",
       "      <td>0.0</td>\n",
       "      <td>0.028663</td>\n",
       "      <td>0</td>\n",
       "    </tr>\n",
       "  </tbody>\n",
       "</table>\n",
       "<p>5 rows × 128 columns</p>\n",
       "</div>"
      ],
      "text/plain": [
       "   AMT_ANNUITY  OBS_30_CNT_SOCIAL_CIRCLE  DEF_30_CNT_SOCIAL_CIRCLE  \\\n",
       "0    -0.166149                  0.241033                  4.163149   \n",
       "1     0.592677                 -0.176156                 -0.321603   \n",
       "2    -1.404676                 -0.593345                 -0.321603   \n",
       "3     0.177869                  0.241033                 -0.321603   \n",
       "4    -0.361755                 -0.593345                 -0.321603   \n",
       "\n",
       "   OBS_60_CNT_SOCIAL_CIRCLE  DEF_60_CNT_SOCIAL_CIRCLE  EXT_SOURCE_1  \\\n",
       "0                  0.250314                  5.253007      0.083037   \n",
       "1                 -0.170589                 -0.276616      0.311267   \n",
       "2                 -0.591491                 -0.276616      0.502130   \n",
       "3                  0.250314                 -0.276616      0.502130   \n",
       "4                 -0.591491                 -0.276616      0.502130   \n",
       "\n",
       "   EXT_SOURCE_2  EXT_SOURCE_3  CNT_CHILDREN  AMT_INCOME_TOTAL  ...  \\\n",
       "0      0.262949      0.139376     -0.577538          0.142129  ...   \n",
       "1      0.622246      0.510853     -0.577538          0.426792  ...   \n",
       "2      0.555912      0.729567     -0.577538         -0.427196  ...   \n",
       "3      0.650442      0.510853     -0.577538         -0.142533  ...   \n",
       "4      0.322738      0.510853     -0.577538         -0.199466  ...   \n",
       "\n",
       "   ORGANIZATION_TYPE_Trade: type 6  ORGANIZATION_TYPE_Trade: type 7  \\\n",
       "0                              0.0                              0.0   \n",
       "1                              0.0                              0.0   \n",
       "2                              0.0                              0.0   \n",
       "3                              0.0                              0.0   \n",
       "4                              0.0                              0.0   \n",
       "\n",
       "   ORGANIZATION_TYPE_Transport: type 1  ORGANIZATION_TYPE_Transport: type 2  \\\n",
       "0                                  0.0                                  0.0   \n",
       "1                                  0.0                                  0.0   \n",
       "2                                  0.0                                  0.0   \n",
       "3                                  0.0                                  0.0   \n",
       "4                                  0.0                                  0.0   \n",
       "\n",
       "   ORGANIZATION_TYPE_Transport: type 3  ORGANIZATION_TYPE_Transport: type 4  \\\n",
       "0                                  0.0                                  0.0   \n",
       "1                                  0.0                                  0.0   \n",
       "2                                  0.0                                  0.0   \n",
       "3                                  0.0                                  0.0   \n",
       "4                                  0.0                                  0.0   \n",
       "\n",
       "   ORGANIZATION_TYPE_University  ORGANIZATION_TYPE_XNA  \\\n",
       "0                           0.0                    0.0   \n",
       "1                           0.0                    0.0   \n",
       "2                           0.0                    0.0   \n",
       "3                           0.0                    0.0   \n",
       "4                           0.0                    0.0   \n",
       "\n",
       "   REGION_POPULATION_RELATIVE  TARGET  \n",
       "0                    0.018801       1  \n",
       "1                    0.003541       0  \n",
       "2                    0.010032       0  \n",
       "3                    0.008019       0  \n",
       "4                    0.028663       0  \n",
       "\n",
       "[5 rows x 128 columns]"
      ]
     },
     "execution_count": 2,
     "metadata": {},
     "output_type": "execute_result"
    }
   ],
   "source": [
    "df = pd.read_csv('train_data_processed.csv', index_col= 0)\n",
    "df.head()"
   ]
  },
  {
   "cell_type": "markdown",
   "metadata": {},
   "source": [
    "The data is already scaled for numerical features and encoded (One-hot) for categorical features. We are ready to start working with it."
   ]
  },
  {
   "cell_type": "code",
   "execution_count": 3,
   "metadata": {},
   "outputs": [],
   "source": [
    "df.rename(columns = {col: col.lower() for col in df.columns.values}, inplace = True)\n",
    "X = df.drop(columns=['target'])\n",
    "y = df.target.copy()\n",
    "\n",
    "performance_metrics = {}"
   ]
  },
  {
   "cell_type": "markdown",
   "metadata": {},
   "source": [
    "### First Model: **Logistic Regression**"
   ]
  },
  {
   "cell_type": "markdown",
   "metadata": {},
   "source": [
    "For this model we will first fit a logistic regression to all the parameters, and take the mean of the AUC score from a 5 fold cross validation. We will then run a logistic regression regularized by Lasso to try and do feature extraction. We will finally compute the regression without the penalty but using only the parameters extracted from the constrained regression."
   ]
  },
  {
   "cell_type": "code",
   "execution_count": 4,
   "metadata": {},
   "outputs": [],
   "source": [
    "from sklearn.linear_model import SGDClassifier"
   ]
  },
  {
   "cell_type": "code",
   "execution_count": 5,
   "metadata": {},
   "outputs": [],
   "source": [
    "start = time.time()\n",
    "logistic_regression_full = SGDClassifier(loss = 'log_loss', l1_ratio= 1, n_jobs= jobs, random_state= 0, early_stopping= True)\n",
    "results_logistic_regression_full = cross_val_score(logistic_regression_full, X,y, cv = 5, scoring='roc_auc')\n",
    "end = time.time()\n",
    "performance_metrics['logistic_regression_full'] = {'cv_roc_auc' : np.mean(results_logistic_regression_full),'runtime': end-start}"
   ]
  },
  {
   "cell_type": "markdown",
   "metadata": {},
   "source": [
    "Regularized Logistic regression"
   ]
  },
  {
   "cell_type": "code",
   "execution_count": 6,
   "metadata": {},
   "outputs": [
    {
     "data": {
      "text/plain": [
       "{'alpha': 0.0001}"
      ]
     },
     "execution_count": 6,
     "metadata": {},
     "output_type": "execute_result"
    }
   ],
   "source": [
    "param_grid = [{'alpha' : [0.0001, 0.001, 0.01, 0.1, 1]}]\n",
    "logistic_regression_l1 = SGDClassifier(loss = 'log_loss', l1_ratio= 1, n_jobs= jobs, random_state= 0, early_stopping= True)\n",
    "grid_search = GridSearchCV(logistic_regression_l1, param_grid, cv = 7, scoring = 'roc_auc')\n",
    "grid_search.fit(X,y)\n",
    "grid_search.best_params_"
   ]
  },
  {
   "cell_type": "markdown",
   "metadata": {},
   "source": [
    "As the optimal parameter happens to be the default one, with little to no regularization, we will not remove features using Lasso regression and will accept the original logistic regression as our best model for it."
   ]
  },
  {
   "cell_type": "markdown",
   "metadata": {},
   "source": [
    "### Second Model: **Support Vector Machines**"
   ]
  },
  {
   "cell_type": "code",
   "execution_count": 7,
   "metadata": {},
   "outputs": [],
   "source": [
    "from sklearn.linear_model import SGDClassifier"
   ]
  },
  {
   "cell_type": "code",
   "execution_count": 8,
   "metadata": {},
   "outputs": [
    {
     "data": {
      "text/plain": [
       "{'alpha': 3.5}"
      ]
     },
     "execution_count": 8,
     "metadata": {},
     "output_type": "execute_result"
    }
   ],
   "source": [
    "svc = SGDClassifier(loss = 'hinge', random_state = 0, max_iter = 10000, early_stopping = True)\n",
    "param_grid = [{'alpha': [3,3.5,4]}]\n",
    "grid_search = GridSearchCV(svc, param_grid, n_jobs = jobs, cv = 5, scoring = 'roc_auc')\n",
    "grid_search.fit(X,y)\n",
    "grid_search.best_params_"
   ]
  },
  {
   "cell_type": "code",
   "execution_count": 9,
   "metadata": {},
   "outputs": [],
   "source": [
    "start = time.time()\n",
    "linear_svc = SGDClassifier(alpha = 3.5, loss = 'hinge', random_state = 0, max_iter = 10000, early_stopping = True)\n",
    "results_svc = cross_val_score(linear_svc, X,y, cv = 5, n_jobs = jobs, scoring='roc_auc')\n",
    "end = time.time()\n",
    "performance_metrics['svc'] = {'cv_roc_auc': np.mean(results_svc), 'runtime': end-start}"
   ]
  },
  {
   "cell_type": "markdown",
   "metadata": {},
   "source": [
    "### Third Model: **Decision Tree**"
   ]
  },
  {
   "cell_type": "code",
   "execution_count": 10,
   "metadata": {},
   "outputs": [],
   "source": [
    "from sklearn.tree import DecisionTreeClassifier"
   ]
  },
  {
   "cell_type": "code",
   "execution_count": 11,
   "metadata": {},
   "outputs": [
    {
     "data": {
      "text/plain": [
       "{'max_depth': 12, 'min_samples_leaf': 800}"
      ]
     },
     "execution_count": 11,
     "metadata": {},
     "output_type": "execute_result"
    }
   ],
   "source": [
    "clf = DecisionTreeClassifier(random_state = 0)\n",
    "param_grid = [{'max_depth': [8,10,12], 'min_samples_leaf': [500,800,1000]}]\n",
    "grid_search = GridSearchCV(clf, param_grid, n_jobs = jobs, cv = 5, scoring = 'roc_auc')\n",
    "grid_search.fit(X,y)\n",
    "grid_search.best_params_"
   ]
  },
  {
   "cell_type": "code",
   "execution_count": 12,
   "metadata": {},
   "outputs": [],
   "source": [
    "start = time.time()\n",
    "dec_tree = DecisionTreeClassifier(max_depth = 12, min_samples_leaf = 800, random_state = 0)\n",
    "results_decision_tree = cross_val_score(dec_tree, X,y, cv = 5, n_jobs = jobs, scoring='roc_auc')\n",
    "end = time.time()\n",
    "performance_metrics['decision_tree'] = {'cv_roc_auc' : np.mean(results_decision_tree),'runtime': end-start}"
   ]
  },
  {
   "cell_type": "markdown",
   "metadata": {},
   "source": [
    "### Fourth Model: **Random Forest**"
   ]
  },
  {
   "cell_type": "code",
   "execution_count": 13,
   "metadata": {},
   "outputs": [],
   "source": [
    "from sklearn.ensemble import RandomForestClassifier"
   ]
  },
  {
   "cell_type": "code",
   "execution_count": 14,
   "metadata": {},
   "outputs": [
    {
     "data": {
      "text/plain": [
       "{'max_depth': 12, 'min_samples_leaf': 500}"
      ]
     },
     "execution_count": 14,
     "metadata": {},
     "output_type": "execute_result"
    }
   ],
   "source": [
    "clf = RandomForestClassifier(n_jobs = jobs,random_state= 0, oob_score= True)\n",
    "param_grid = [{'max_depth': [10,12], 'min_samples_leaf': [500,750]}]\n",
    "grid_search = GridSearchCV(clf, param_grid, cv = 5, scoring = 'roc_auc')\n",
    "grid_search.fit(X,y)\n",
    "grid_search.best_params_"
   ]
  },
  {
   "cell_type": "code",
   "execution_count": 15,
   "metadata": {},
   "outputs": [],
   "source": [
    "start = time.time()\n",
    "clf = RandomForestClassifier(n_estimators = 300, min_samples_leaf = 500, max_depth = 12, n_jobs = jobs,random_state= 0, oob_score= True)\n",
    "random_forest = cross_val_score(clf, X,y, scoring = 'roc_auc', cv = 5)\n",
    "end = time.time()\n",
    "performance_metrics['random_forest'] = {'cv_roc_auc': np.mean(random_forest), 'runtime': end - start}"
   ]
  },
  {
   "cell_type": "markdown",
   "metadata": {},
   "source": [
    "### Fifth Model: **XGBoost**"
   ]
  },
  {
   "cell_type": "code",
   "execution_count": 16,
   "metadata": {},
   "outputs": [],
   "source": [
    "from xgboost import XGBClassifier"
   ]
  },
  {
   "cell_type": "code",
   "execution_count": 17,
   "metadata": {},
   "outputs": [],
   "source": [
    "start = time.time()\n",
    "xgbclf = XGBClassifier(\n",
    " learning_rate =0.05,\n",
    " n_estimators= 500,\n",
    " max_depth= 12,\n",
    " min_child_weight=3,\n",
    " gamma = 0.2,\n",
    " subsample=0.8,\n",
    " colsample_bytree=0.8,\n",
    " objective= 'binary:logistic',\n",
    " nthread= jobs,\n",
    " scale_pos_weight=1,\n",
    " seed=0)\n",
    "res = cross_val_score(xgbclf, X, y, scoring = 'roc_auc')\n",
    "end = time.time()\n",
    "performance_metrics['xgboost'] = {'cv_roc_auc': np.mean(res), 'runtime': end-start}"
   ]
  },
  {
   "cell_type": "markdown",
   "metadata": {},
   "source": [
    "### Comparing model performance with runtime:\n",
    "\n",
    "All of the ROC AUC scores were obtained with kfold cross-validation, so they are more robust than regular train scores."
   ]
  },
  {
   "cell_type": "code",
   "execution_count": 18,
   "metadata": {},
   "outputs": [
    {
     "data": {
      "text/html": [
       "<div>\n",
       "<style scoped>\n",
       "    .dataframe tbody tr th:only-of-type {\n",
       "        vertical-align: middle;\n",
       "    }\n",
       "\n",
       "    .dataframe tbody tr th {\n",
       "        vertical-align: top;\n",
       "    }\n",
       "\n",
       "    .dataframe thead th {\n",
       "        text-align: right;\n",
       "    }\n",
       "</style>\n",
       "<table border=\"1\" class=\"dataframe\">\n",
       "  <thead>\n",
       "    <tr style=\"text-align: right;\">\n",
       "      <th></th>\n",
       "      <th>cv_roc_auc</th>\n",
       "      <th>runtime</th>\n",
       "    </tr>\n",
       "  </thead>\n",
       "  <tbody>\n",
       "    <tr>\n",
       "      <th>svc</th>\n",
       "      <td>0.691680</td>\n",
       "      <td>2.032032</td>\n",
       "    </tr>\n",
       "    <tr>\n",
       "      <th>decision_tree</th>\n",
       "      <td>0.722859</td>\n",
       "      <td>8.337421</td>\n",
       "    </tr>\n",
       "    <tr>\n",
       "      <th>random_forest</th>\n",
       "      <td>0.735669</td>\n",
       "      <td>172.843819</td>\n",
       "    </tr>\n",
       "    <tr>\n",
       "      <th>logistic_regression_full</th>\n",
       "      <td>0.737341</td>\n",
       "      <td>18.541250</td>\n",
       "    </tr>\n",
       "    <tr>\n",
       "      <th>xgboost</th>\n",
       "      <td>0.745122</td>\n",
       "      <td>1522.068018</td>\n",
       "    </tr>\n",
       "  </tbody>\n",
       "</table>\n",
       "</div>"
      ],
      "text/plain": [
       "                          cv_roc_auc      runtime\n",
       "svc                         0.691680     2.032032\n",
       "decision_tree               0.722859     8.337421\n",
       "random_forest               0.735669   172.843819\n",
       "logistic_regression_full    0.737341    18.541250\n",
       "xgboost                     0.745122  1522.068018"
      ]
     },
     "execution_count": 18,
     "metadata": {},
     "output_type": "execute_result"
    }
   ],
   "source": [
    "results = pd.DataFrame(performance_metrics).transpose()\n",
    "results.sort_values(by = ['cv_roc_auc','runtime'])"
   ]
  }
 ],
 "metadata": {
  "kernelspec": {
   "display_name": "Python 3.10.6 64-bit",
   "language": "python",
   "name": "python3"
  },
  "language_info": {
   "codemirror_mode": {
    "name": "ipython",
    "version": 3
   },
   "file_extension": ".py",
   "mimetype": "text/x-python",
   "name": "python",
   "nbconvert_exporter": "python",
   "pygments_lexer": "ipython3",
   "version": "3.10.6"
  },
  "orig_nbformat": 4,
  "vscode": {
   "interpreter": {
    "hash": "916dbcbb3f70747c44a77c7bcd40155683ae19c65e1c03b4aa3499c5328201f1"
   }
  }
 },
 "nbformat": 4,
 "nbformat_minor": 2
}
