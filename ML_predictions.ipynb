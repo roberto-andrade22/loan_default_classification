{
 "cells": [
  {
   "cell_type": "markdown",
   "metadata": {},
   "source": [
    "# Model Selection and Tuning\n",
    "\n",
    "This file is concerned with trying different ML algorithms for classification, focusing exclusively on predictive power and starting from the simplest model to the most complicated. We will use the processed data created from the data_preparation.ipynb file, which is a csv named 'train_data_processed.csv'.\n",
    "\n",
    "The objective of the models is to accurately predict if a client with certain characteristics will default on a loan when asking for it. As we do not know the associated costs with a client not paying back nor the benefits of a client repaying, we will focus on Area Under Curve as the performance metric.\n",
    "\n",
    "Every model will be trained, tuned and cross-validated using the sci-kit learn library."
   ]
  },
  {
   "cell_type": "code",
   "execution_count": null,
   "metadata": {},
   "outputs": [],
   "source": [
    "import pandas as pd\n",
    "import numpy as np\n",
    "import os\n",
    "import time\n",
    "from sklearn.model_selection import cross_val_score\n",
    "from sklearn.model_selection import GridSearchCV\n",
    "\n",
    "jobs = os.cpu_count()-1 ## A lot of power."
   ]
  },
  {
   "cell_type": "code",
   "execution_count": null,
   "metadata": {},
   "outputs": [],
   "source": [
    "df = pd.read_csv('train_data_processed.csv', index_col= 0)\n",
    "df.head()"
   ]
  },
  {
   "cell_type": "markdown",
   "metadata": {},
   "source": [
    "The data is already scaled for numerical features and encoded (One-hot) for categorical features. We are ready to start working with it."
   ]
  },
  {
   "cell_type": "code",
   "execution_count": null,
   "metadata": {},
   "outputs": [],
   "source": [
    "df.rename(columns = {col: col.lower() for col in df.columns.values}, inplace = True)\n",
    "X = df.drop(columns=['target'])\n",
    "y = df.target.copy()\n",
    "\n",
    "performance_metrics = {}"
   ]
  },
  {
   "cell_type": "markdown",
   "metadata": {},
   "source": [
    "### First Model: **Logistic Regression**"
   ]
  },
  {
   "cell_type": "markdown",
   "metadata": {},
   "source": [
    "For this model we will first fit a logistic regression to all the parameters, and take the mean of the AUC score from a 10 fold cross validation. We will then run a logistic regression regularized by Lasso to try and do feature extraction. We will finally compute the regression without the penalty but using only the parameters extracted from the constrained regression."
   ]
  },
  {
   "cell_type": "code",
   "execution_count": null,
   "metadata": {},
   "outputs": [],
   "source": [
    "from sklearn.linear_model import SGDClassifier"
   ]
  },
  {
   "cell_type": "code",
   "execution_count": null,
   "metadata": {},
   "outputs": [],
   "source": [
    "start = time.time()\n",
    "logistic_regression_full = SGDClassifier(loss = 'log_loss', l1_ratio= 1, n_jobs= jobs, random_state= 0, early_stopping= True)\n",
    "results_logistic_regression_full = cross_val_score(logistic_regression_full, X,y, cv = 7, scoring='roc_auc')\n",
    "end = time.time()\n",
    "performance_metrics['logistic_regression_full'] = {'error' : np.mean(results_logistic_regression_full),'runtime': end-start}"
   ]
  },
  {
   "cell_type": "markdown",
   "metadata": {},
   "source": [
    "Regularized Logistic regression"
   ]
  },
  {
   "cell_type": "code",
   "execution_count": null,
   "metadata": {},
   "outputs": [],
   "source": [
    "param_grid = [{'alpha' : [0.0001, 0.001, 0.01, 0.1, 1, 10]}]\n",
    "logistic_regression_l1 = SGDClassifier(loss = 'log_loss', l1_ratio= 1, n_jobs= jobs, random_state= 0, early_stopping= True)\n",
    "grid_search = GridSearchCV(logistic_regression_l1, param_grid, cv = 7, scoring = 'roc_auc')\n",
    "grid_search.fit(X,y)\n",
    "grid_search.best_params_"
   ]
  },
  {
   "cell_type": "markdown",
   "metadata": {},
   "source": [
    "As the optimal parameter happens to be the default one, with little to no regularization, we will not remove features using Lasso regression and will accept the original logistic regression as our best model for it."
   ]
  },
  {
   "cell_type": "markdown",
   "metadata": {},
   "source": [
    "### Second Model: **Support Vector Machines**"
   ]
  },
  {
   "cell_type": "code",
   "execution_count": null,
   "metadata": {},
   "outputs": [],
   "source": [
    "from sklearn.linear_model import SGDClassifier"
   ]
  },
  {
   "cell_type": "code",
   "execution_count": null,
   "metadata": {},
   "outputs": [],
   "source": [
    "svc = SGDClassifier(loss = 'hinge', random_state = 0, max_iter = 10000, early_stopping = True)\n",
    "param_grid = [{'alpha': [2,2.5,3,3.5]}]\n",
    "grid_search = GridSearchCV(svc, param_grid, n_jobs = jobs, cv = 7, scoring = 'roc_auc')\n",
    "grid_search.fit(X,y)\n",
    "grid_search.best_params_"
   ]
  },
  {
   "cell_type": "code",
   "execution_count": null,
   "metadata": {},
   "outputs": [],
   "source": [
    "start = time.time()\n",
    "linear_svc = SGDClassifier(alpha = 3, loss = 'hinge', random_state = 0, max_iter = 10000, early_stopping = True)\n",
    "results_svc = cross_val_score(linear_svc, X,y, cv = 7, n_jobs = jobs, scoring='roc_auc')\n",
    "end = time.time()\n",
    "performance_metrics['svc'] = {'error': np.mean(results_svc), 'runtime': end-start}"
   ]
  },
  {
   "cell_type": "markdown",
   "metadata": {},
   "source": [
    "### Third Model: **Decision Tree**"
   ]
  },
  {
   "cell_type": "code",
   "execution_count": null,
   "metadata": {},
   "outputs": [],
   "source": [
    "from sklearn.tree import DecisionTreeClassifier"
   ]
  },
  {
   "cell_type": "code",
   "execution_count": null,
   "metadata": {},
   "outputs": [],
   "source": [
    "clf = DecisionTreeClassifier(random_state = 0)\n",
    "param_grid = [{'max_depth': [10,11,12], 'min_samples_leaf': [1200,1400,1600]}]\n",
    "grid_search = GridSearchCV(clf, param_grid, n_jobs = jobs, cv = 7, scoring = 'roc_auc')\n",
    "grid_search.fit(X,y)\n",
    "grid_search.best_params_"
   ]
  },
  {
   "cell_type": "code",
   "execution_count": null,
   "metadata": {},
   "outputs": [],
   "source": [
    "start = time.time()\n",
    "dec_tree = DecisionTreeClassifier(max_depth = 11, min_samples_leaf = 1400, random_state = 0)\n",
    "results_decision_tree = cross_val_score(dec_tree, X,y, cv = 7, n_jobs = jobs, scoring='roc_auc')\n",
    "end = time.time()\n",
    "performance_metrics['decision_tree'] = {'error' : np.mean(results_decision_tree),'runtime': end-start}"
   ]
  },
  {
   "cell_type": "markdown",
   "metadata": {},
   "source": [
    "### Fourth Model: **Random Forest**"
   ]
  },
  {
   "cell_type": "code",
   "execution_count": null,
   "metadata": {},
   "outputs": [],
   "source": [
    "from sklearn.ensemble import RandomForestClassifier\n",
    "from sklearn.model_selection import RandomizedSearchCV"
   ]
  },
  {
   "cell_type": "code",
   "execution_count": null,
   "metadata": {},
   "outputs": [],
   "source": [
    "clf = RandomForestClassifier(n_jobs = jobs,random_state= 0)\n",
    "random_grid = [{'n_estimators': [400,600,800],'max_depth': [15,18,20], 'min_samples_leaf': [1000,1200,1300]}]\n",
    "grid_search = RandomizedSearchCV(clf, random_grid, cv = 4, scoring = 'roc_auc')\n",
    "grid_search.fit(X,y)\n",
    "grid_search.best_params_"
   ]
  },
  {
   "cell_type": "code",
   "execution_count": null,
   "metadata": {},
   "outputs": [],
   "source": [
    "grid_search.best_score_"
   ]
  }
 ],
 "metadata": {
  "kernelspec": {
   "display_name": "Python 3.10.6 64-bit",
   "language": "python",
   "name": "python3"
  },
  "language_info": {
   "codemirror_mode": {
    "name": "ipython",
    "version": 3
   },
   "file_extension": ".py",
   "mimetype": "text/x-python",
   "name": "python",
   "nbconvert_exporter": "python",
   "pygments_lexer": "ipython3",
   "version": "3.10.6"
  },
  "orig_nbformat": 4,
  "vscode": {
   "interpreter": {
    "hash": "916dbcbb3f70747c44a77c7bcd40155683ae19c65e1c03b4aa3499c5328201f1"
   }
  }
 },
 "nbformat": 4,
 "nbformat_minor": 2
}
