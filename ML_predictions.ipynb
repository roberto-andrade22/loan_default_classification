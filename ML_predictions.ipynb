{
 "cells": [
  {
   "cell_type": "markdown",
   "metadata": {},
   "source": [
    "# Model Selection and Tuning\n",
    "\n",
    "This file is concerned with trying different ML algorithms for classification, focusing exclusively on predictive power and starting from the simplest model to the most complicated. We will use the processed data created from the data_preparation.ipynb file, which is a csv named 'aggregated_train_data.csv'.\n",
    "\n",
    "The objective of the models is to accurately predict if a client with certain characteristics will default on a loan when asking for it. As we do know that the data is very imbalanced (over 90% of the observations are negative), the performance metric of interest will not be accuracy as is: just by always predicting negative we would be right most of the time. Instead we will focus on ROC Area Under the Curve, which is a far more balanced metric.\n",
    "\n",
    "It is important to use such a metric which combines elements from both the true positive rate as well as the true negative rate: if we were to flag accurately all the defaulting loans (recall) we may avoid the costs of the default, however at the expense of missing on plenty of customers who would have paid their loans and interest back. As we do not know the associated benefits and costs of these two cases, balanced accuracy is the best we can do for this imbalanced dataset. We will also keep track of accuracy and runtime of each model, just not trying to optimize it as this could be done on the best model when deploying on the cloud if its performance warrants it.\n",
    "\n",
    "Every model will be trained, tuned and cross-validated using the sci-kit learn library."
   ]
  },
  {
   "cell_type": "code",
   "execution_count": 1,
   "metadata": {},
   "outputs": [],
   "source": [
    "import pandas as pd\n",
    "import numpy as np\n",
    "import os\n",
    "import time\n",
    "from sklearn.model_selection import cross_validate\n",
    "from sklearn.model_selection import GridSearchCV\n",
    "\n",
    "jobs = os.cpu_count()-2 ## A lot of power."
   ]
  },
  {
   "cell_type": "code",
   "execution_count": 2,
   "metadata": {},
   "outputs": [
    {
     "data": {
      "text/html": [
       "<div>\n",
       "<style scoped>\n",
       "    .dataframe tbody tr th:only-of-type {\n",
       "        vertical-align: middle;\n",
       "    }\n",
       "\n",
       "    .dataframe tbody tr th {\n",
       "        vertical-align: top;\n",
       "    }\n",
       "\n",
       "    .dataframe thead th {\n",
       "        text-align: right;\n",
       "    }\n",
       "</style>\n",
       "<table border=\"1\" class=\"dataframe\">\n",
       "  <thead>\n",
       "    <tr style=\"text-align: right;\">\n",
       "      <th></th>\n",
       "      <th>SK_ID_CURR</th>\n",
       "      <th>TARGET</th>\n",
       "      <th>CNT_CHILDREN</th>\n",
       "      <th>AMT_INCOME_TOTAL</th>\n",
       "      <th>AMT_CREDIT</th>\n",
       "      <th>AMT_ANNUITY</th>\n",
       "      <th>AMT_GOODS_PRICE</th>\n",
       "      <th>REGION_POPULATION_RELATIVE</th>\n",
       "      <th>DAYS_BIRTH</th>\n",
       "      <th>DAYS_EMPLOYED</th>\n",
       "      <th>...</th>\n",
       "      <th>CC_SK_DPD_MEAN</th>\n",
       "      <th>CC_SK_DPD_DEF_MEAN</th>\n",
       "      <th>CC_NAME_CONTRACT_STATUS_Active_MEAN</th>\n",
       "      <th>CC_NAME_CONTRACT_STATUS_Approved_MEAN</th>\n",
       "      <th>CC_NAME_CONTRACT_STATUS_Completed_MEAN</th>\n",
       "      <th>CC_NAME_CONTRACT_STATUS_Demand_MEAN</th>\n",
       "      <th>CC_NAME_CONTRACT_STATUS_Refused_MEAN</th>\n",
       "      <th>CC_NAME_CONTRACT_STATUS_Sent proposal_MEAN</th>\n",
       "      <th>CC_NAME_CONTRACT_STATUS_Signed_MEAN</th>\n",
       "      <th>CC_NAME_CONTRACT_STATUS_nan_MEAN</th>\n",
       "    </tr>\n",
       "  </thead>\n",
       "  <tbody>\n",
       "    <tr>\n",
       "      <th>0</th>\n",
       "      <td>100002</td>\n",
       "      <td>1</td>\n",
       "      <td>0</td>\n",
       "      <td>202500.0</td>\n",
       "      <td>406597.5</td>\n",
       "      <td>24700.5</td>\n",
       "      <td>351000.0</td>\n",
       "      <td>0.018801</td>\n",
       "      <td>-9461</td>\n",
       "      <td>-637</td>\n",
       "      <td>...</td>\n",
       "      <td>NaN</td>\n",
       "      <td>NaN</td>\n",
       "      <td>NaN</td>\n",
       "      <td>NaN</td>\n",
       "      <td>NaN</td>\n",
       "      <td>NaN</td>\n",
       "      <td>NaN</td>\n",
       "      <td>NaN</td>\n",
       "      <td>NaN</td>\n",
       "      <td>NaN</td>\n",
       "    </tr>\n",
       "    <tr>\n",
       "      <th>1</th>\n",
       "      <td>100003</td>\n",
       "      <td>0</td>\n",
       "      <td>0</td>\n",
       "      <td>270000.0</td>\n",
       "      <td>1293502.5</td>\n",
       "      <td>35698.5</td>\n",
       "      <td>1129500.0</td>\n",
       "      <td>0.003541</td>\n",
       "      <td>-16765</td>\n",
       "      <td>-1188</td>\n",
       "      <td>...</td>\n",
       "      <td>NaN</td>\n",
       "      <td>NaN</td>\n",
       "      <td>NaN</td>\n",
       "      <td>NaN</td>\n",
       "      <td>NaN</td>\n",
       "      <td>NaN</td>\n",
       "      <td>NaN</td>\n",
       "      <td>NaN</td>\n",
       "      <td>NaN</td>\n",
       "      <td>NaN</td>\n",
       "    </tr>\n",
       "    <tr>\n",
       "      <th>2</th>\n",
       "      <td>100004</td>\n",
       "      <td>0</td>\n",
       "      <td>0</td>\n",
       "      <td>67500.0</td>\n",
       "      <td>135000.0</td>\n",
       "      <td>6750.0</td>\n",
       "      <td>135000.0</td>\n",
       "      <td>0.010032</td>\n",
       "      <td>-19046</td>\n",
       "      <td>-225</td>\n",
       "      <td>...</td>\n",
       "      <td>NaN</td>\n",
       "      <td>NaN</td>\n",
       "      <td>NaN</td>\n",
       "      <td>NaN</td>\n",
       "      <td>NaN</td>\n",
       "      <td>NaN</td>\n",
       "      <td>NaN</td>\n",
       "      <td>NaN</td>\n",
       "      <td>NaN</td>\n",
       "      <td>NaN</td>\n",
       "    </tr>\n",
       "    <tr>\n",
       "      <th>3</th>\n",
       "      <td>100006</td>\n",
       "      <td>0</td>\n",
       "      <td>0</td>\n",
       "      <td>135000.0</td>\n",
       "      <td>312682.5</td>\n",
       "      <td>29686.5</td>\n",
       "      <td>297000.0</td>\n",
       "      <td>0.008019</td>\n",
       "      <td>-19005</td>\n",
       "      <td>-3039</td>\n",
       "      <td>...</td>\n",
       "      <td>0.0</td>\n",
       "      <td>0.0</td>\n",
       "      <td>1.0</td>\n",
       "      <td>0.0</td>\n",
       "      <td>0.0</td>\n",
       "      <td>0.0</td>\n",
       "      <td>0.0</td>\n",
       "      <td>0.0</td>\n",
       "      <td>0.0</td>\n",
       "      <td>0.0</td>\n",
       "    </tr>\n",
       "    <tr>\n",
       "      <th>4</th>\n",
       "      <td>100007</td>\n",
       "      <td>0</td>\n",
       "      <td>0</td>\n",
       "      <td>121500.0</td>\n",
       "      <td>513000.0</td>\n",
       "      <td>21865.5</td>\n",
       "      <td>513000.0</td>\n",
       "      <td>0.028663</td>\n",
       "      <td>-19932</td>\n",
       "      <td>-3038</td>\n",
       "      <td>...</td>\n",
       "      <td>NaN</td>\n",
       "      <td>NaN</td>\n",
       "      <td>NaN</td>\n",
       "      <td>NaN</td>\n",
       "      <td>NaN</td>\n",
       "      <td>NaN</td>\n",
       "      <td>NaN</td>\n",
       "      <td>NaN</td>\n",
       "      <td>NaN</td>\n",
       "      <td>NaN</td>\n",
       "    </tr>\n",
       "  </tbody>\n",
       "</table>\n",
       "<p>5 rows × 637 columns</p>\n",
       "</div>"
      ],
      "text/plain": [
       "   SK_ID_CURR  TARGET  CNT_CHILDREN  AMT_INCOME_TOTAL  AMT_CREDIT  \\\n",
       "0      100002       1             0          202500.0    406597.5   \n",
       "1      100003       0             0          270000.0   1293502.5   \n",
       "2      100004       0             0           67500.0    135000.0   \n",
       "3      100006       0             0          135000.0    312682.5   \n",
       "4      100007       0             0          121500.0    513000.0   \n",
       "\n",
       "   AMT_ANNUITY  AMT_GOODS_PRICE  REGION_POPULATION_RELATIVE  DAYS_BIRTH  \\\n",
       "0      24700.5         351000.0                    0.018801       -9461   \n",
       "1      35698.5        1129500.0                    0.003541      -16765   \n",
       "2       6750.0         135000.0                    0.010032      -19046   \n",
       "3      29686.5         297000.0                    0.008019      -19005   \n",
       "4      21865.5         513000.0                    0.028663      -19932   \n",
       "\n",
       "   DAYS_EMPLOYED  ...  CC_SK_DPD_MEAN  CC_SK_DPD_DEF_MEAN  \\\n",
       "0           -637  ...             NaN                 NaN   \n",
       "1          -1188  ...             NaN                 NaN   \n",
       "2           -225  ...             NaN                 NaN   \n",
       "3          -3039  ...             0.0                 0.0   \n",
       "4          -3038  ...             NaN                 NaN   \n",
       "\n",
       "   CC_NAME_CONTRACT_STATUS_Active_MEAN  CC_NAME_CONTRACT_STATUS_Approved_MEAN  \\\n",
       "0                                  NaN                                    NaN   \n",
       "1                                  NaN                                    NaN   \n",
       "2                                  NaN                                    NaN   \n",
       "3                                  1.0                                    0.0   \n",
       "4                                  NaN                                    NaN   \n",
       "\n",
       "   CC_NAME_CONTRACT_STATUS_Completed_MEAN  \\\n",
       "0                                     NaN   \n",
       "1                                     NaN   \n",
       "2                                     NaN   \n",
       "3                                     0.0   \n",
       "4                                     NaN   \n",
       "\n",
       "   CC_NAME_CONTRACT_STATUS_Demand_MEAN  CC_NAME_CONTRACT_STATUS_Refused_MEAN  \\\n",
       "0                                  NaN                                   NaN   \n",
       "1                                  NaN                                   NaN   \n",
       "2                                  NaN                                   NaN   \n",
       "3                                  0.0                                   0.0   \n",
       "4                                  NaN                                   NaN   \n",
       "\n",
       "   CC_NAME_CONTRACT_STATUS_Sent proposal_MEAN  \\\n",
       "0                                         NaN   \n",
       "1                                         NaN   \n",
       "2                                         NaN   \n",
       "3                                         0.0   \n",
       "4                                         NaN   \n",
       "\n",
       "   CC_NAME_CONTRACT_STATUS_Signed_MEAN  CC_NAME_CONTRACT_STATUS_nan_MEAN  \n",
       "0                                  NaN                               NaN  \n",
       "1                                  NaN                               NaN  \n",
       "2                                  NaN                               NaN  \n",
       "3                                  0.0                               0.0  \n",
       "4                                  NaN                               NaN  \n",
       "\n",
       "[5 rows x 637 columns]"
      ]
     },
     "execution_count": 2,
     "metadata": {},
     "output_type": "execute_result"
    }
   ],
   "source": [
    "df = pd.read_csv('aggregated_train_data.csv', index_col= 0)\n",
    "df.head()"
   ]
  },
  {
   "cell_type": "code",
   "execution_count": 3,
   "metadata": {},
   "outputs": [],
   "source": [
    "df.rename(columns = {col: col.lower() for col in df.columns.values}, inplace = True)\n",
    "X = df.drop(columns=['target','sk_id_curr'])\n",
    "y = df.target.copy()\n",
    "\n",
    "performance_metrics = {}"
   ]
  },
  {
   "cell_type": "code",
   "execution_count": 4,
   "metadata": {},
   "outputs": [
    {
     "data": {
      "text/plain": [
       "0    282686\n",
       "1     24825\n",
       "Name: target, dtype: int64"
      ]
     },
     "execution_count": 4,
     "metadata": {},
     "output_type": "execute_result"
    }
   ],
   "source": [
    "y.value_counts()"
   ]
  },
  {
   "cell_type": "markdown",
   "metadata": {},
   "source": [
    "We note that we will be dealing with imbalanced data. The negative (non-default in this case) are above 90% of the observations while the positive (client defaulting on a loan) are less than 10% of the cases."
   ]
  },
  {
   "cell_type": "markdown",
   "metadata": {},
   "source": [
    "### First Model: **Logistic Regression**"
   ]
  },
  {
   "cell_type": "markdown",
   "metadata": {},
   "source": [
    "For this model we will first fit a logistic regression to all the parameters, and take the mean of the AUC score from a 5 fold cross validation. We will then run a logistic regression regularized by Lasso to try and do feature extraction. We will finally compute the regression without the penalty but using only the parameters extracted from the constrained regression."
   ]
  },
  {
   "cell_type": "code",
   "execution_count": 5,
   "metadata": {},
   "outputs": [],
   "source": [
    "from sklearn.linear_model import SGDClassifier"
   ]
  },
  {
   "cell_type": "code",
   "execution_count": 6,
   "metadata": {},
   "outputs": [],
   "source": [
    "## Logistic Regression and other models do not accept NaN values. Will use sklearn's preprocessing to impute mean where necessary.\n",
    "\n",
    "from sklearn.impute import SimpleImputer\n",
    "from sklearn.preprocessing import StandardScaler\n",
    "from sklearn.pipeline import Pipeline\n",
    "\n",
    "X.replace([np.inf, -np.inf], np.nan, inplace=True)\n",
    "transformations = Pipeline([('impute', SimpleImputer(strategy= 'mean')), ('scale', StandardScaler())])\n",
    "transformed_data = transformations.fit_transform(X)"
   ]
  },
  {
   "cell_type": "markdown",
   "metadata": {},
   "source": [
    "All variables"
   ]
  },
  {
   "cell_type": "code",
   "execution_count": 7,
   "metadata": {},
   "outputs": [],
   "source": [
    "start = time.time()\n",
    "logistic_regression_full = SGDClassifier(loss = 'log_loss', l1_ratio= 1, n_jobs= jobs, random_state= 0, early_stopping= True)\n",
    "res = cross_validate(logistic_regression_full, transformed_data,y, cv = 5, scoring=['roc_auc','accuracy'])\n",
    "end = time.time()\n",
    "performance_metrics['logistic_regression_full'] = {'roc_auc': np.mean(res['test_roc_auc']),'accuracy':np.mean(res['test_accuracy']),'runtime': end-start}"
   ]
  },
  {
   "cell_type": "markdown",
   "metadata": {},
   "source": [
    "Regularized Logistic regression"
   ]
  },
  {
   "cell_type": "code",
   "execution_count": 8,
   "metadata": {},
   "outputs": [],
   "source": [
    "## Model tuning\n",
    "\n",
    "##param_grid = [{'alpha' : [0.01,0.05,0.1]}]\n",
    "##logistic_regression_l1 = SGDClassifier(loss = 'log_loss', penalty = 'l1', l1_ratio = 1, n_jobs= jobs, random_state= 0, early_stopping= True)\n",
    "##grid_search = GridSearchCV(logistic_regression_l1, param_grid, scoring=['roc_auc','accuracy'], refit = 'roc_auc')\n",
    "##grid_search.fit(transformed_data,y)\n",
    "##grid_search.best_params_"
   ]
  },
  {
   "cell_type": "code",
   "execution_count": 9,
   "metadata": {},
   "outputs": [],
   "source": [
    "##grid_search.best_score_"
   ]
  },
  {
   "cell_type": "code",
   "execution_count": 10,
   "metadata": {},
   "outputs": [],
   "source": [
    "start = time.time()\n",
    "logistic_regression_l1 = SGDClassifier(loss = 'log_loss', alpha= 0.05, penalty = 'l1', l1_ratio= 1, n_jobs= jobs, random_state= 0, early_stopping= True)\n",
    "res = cross_validate(logistic_regression_l1, transformed_data,y, cv = 5, scoring=['roc_auc','accuracy'])\n",
    "end = time.time()\n",
    "performance_metrics['logistic_regression_l1'] = {'roc_auc': np.mean(res['test_roc_auc']),'accuracy':np.mean(res['test_accuracy']),'runtime': end-start}"
   ]
  },
  {
   "cell_type": "markdown",
   "metadata": {},
   "source": [
    "### Second Model: **Support Vector Machines**"
   ]
  },
  {
   "cell_type": "code",
   "execution_count": 11,
   "metadata": {},
   "outputs": [],
   "source": [
    "from sklearn.linear_model import SGDClassifier"
   ]
  },
  {
   "cell_type": "code",
   "execution_count": 12,
   "metadata": {},
   "outputs": [],
   "source": [
    "## Model tuning\n",
    "\n",
    "##svc = SGDClassifier(loss = 'hinge', random_state = 0, max_iter = 10000, early_stopping = True)\n",
    "##param_grid = [{'alpha': [0.001,0.005,0.01]}]\n",
    "##grid_search = GridSearchCV(svc, param_grid, n_jobs = jobs, cv = 5, scoring = 'roc_auc')\n",
    "##grid_search.fit(transformed_data,y)\n",
    "##grid_search.best_params_"
   ]
  },
  {
   "cell_type": "code",
   "execution_count": 13,
   "metadata": {},
   "outputs": [],
   "source": [
    "##grid_search.best_score_"
   ]
  },
  {
   "cell_type": "code",
   "execution_count": 14,
   "metadata": {},
   "outputs": [],
   "source": [
    "start = time.time()\n",
    "svc = SGDClassifier(loss = 'hinge', alpha= 0.01,random_state= 0, max_iter = 10000, early_stopping= True)\n",
    "res = cross_validate(svc, transformed_data,y, cv = 5, scoring=['roc_auc','accuracy'])\n",
    "end = time.time()\n",
    "performance_metrics['SVC'] = {'roc_auc': np.mean(res['test_roc_auc']),'accuracy':np.mean(res['test_accuracy']),'runtime': end-start}"
   ]
  },
  {
   "cell_type": "markdown",
   "metadata": {},
   "source": [
    "### Third Model: **Decision Tree**"
   ]
  },
  {
   "cell_type": "code",
   "execution_count": 15,
   "metadata": {},
   "outputs": [],
   "source": [
    "from sklearn.tree import DecisionTreeClassifier"
   ]
  },
  {
   "cell_type": "code",
   "execution_count": 16,
   "metadata": {},
   "outputs": [],
   "source": [
    "## Model tuning\n",
    "\n",
    "##clf = DecisionTreeClassifier(random_state = 0)\n",
    "##param_grid = [{'max_depth':[15,17,19]}]\n",
    "##grid_search = GridSearchCV(clf, param_grid, n_jobs = jobs, cv = 5, scoring = 'roc_auc')\n",
    "##grid_search.fit(transformed_data,y)\n",
    "##grid_search.best_params_"
   ]
  },
  {
   "cell_type": "code",
   "execution_count": 17,
   "metadata": {},
   "outputs": [],
   "source": [
    "##grid_search.best_score_"
   ]
  },
  {
   "cell_type": "code",
   "execution_count": 18,
   "metadata": {},
   "outputs": [],
   "source": [
    "start = time.time()\n",
    "dec_tree = DecisionTreeClassifier(max_depth = 17, min_samples_leaf = 7, random_state = 0)\n",
    "res = cross_validate(dec_tree, transformed_data,y, cv = 5, n_jobs = jobs, scoring=['roc_auc','accuracy'])\n",
    "end = time.time()\n",
    "performance_metrics['decision_tree'] = {'roc_auc': np.mean(res['test_roc_auc']),'accuracy':np.mean(res['test_accuracy']),'runtime': end-start}"
   ]
  },
  {
   "cell_type": "markdown",
   "metadata": {},
   "source": [
    "### Fourth Model: **Random Forest**"
   ]
  },
  {
   "cell_type": "code",
   "execution_count": 19,
   "metadata": {},
   "outputs": [],
   "source": [
    "from sklearn.ensemble import RandomForestClassifier"
   ]
  },
  {
   "cell_type": "code",
   "execution_count": 20,
   "metadata": {},
   "outputs": [],
   "source": [
    "## Model tuning\n",
    "\n",
    "##clf = RandomForestClassifier(random_state = 0)\n",
    "##param_grid = [{'max_depth':[11,13,15], 'min_samples_leaf': [7,9,11], 'n_estimators': 200}]\n",
    "##grid_search = GridSearchCV(clf, param_grid, n_jobs = jobs, cv = 5, scoring = 'roc_auc')\n",
    "##grid_search.fit(transformed_data,y)\n",
    "##grid_search.best_params_"
   ]
  },
  {
   "cell_type": "code",
   "execution_count": 21,
   "metadata": {},
   "outputs": [],
   "source": [
    "##grid_search.best_score_"
   ]
  },
  {
   "cell_type": "code",
   "execution_count": 22,
   "metadata": {},
   "outputs": [],
   "source": [
    "start = time.time()\n",
    "clf = RandomForestClassifier(n_estimators = 400, max_depth = 15, min_samples_leaf = 7, n_jobs = jobs,random_state= 0)\n",
    "res = cross_validate(clf, transformed_data,y, scoring=['roc_auc','accuracy'])\n",
    "end = time.time()\n",
    "performance_metrics['random_forest'] = {'roc_auc': np.mean(res['test_roc_auc']),'accuracy':np.mean(res['test_accuracy']),'runtime': end-start}"
   ]
  },
  {
   "cell_type": "markdown",
   "metadata": {},
   "source": [
    "### Fifth Model: **Gradient Boosted Trees**"
   ]
  },
  {
   "cell_type": "code",
   "execution_count": 23,
   "metadata": {},
   "outputs": [],
   "source": [
    "from lightgbm import LGBMClassifier\n",
    "from sklearn.model_selection import RandomizedSearchCV"
   ]
  },
  {
   "cell_type": "code",
   "execution_count": 24,
   "metadata": {},
   "outputs": [],
   "source": [
    "## Model tuning\n",
    "\n",
    "##LGBM_clf = LGBMClassifier(\n",
    "##    learning_rate =0.01,\n",
    "##    n_estimators= 500,\n",
    "##    num_leaves = 50,\n",
    "##    min_split_gain= 0.03,\n",
    "##    colsample_bytree=0.6,\n",
    "##    verbose =-1,\n",
    "##    n_jobs = jobs,\n",
    "##    seed=0)\n",
    "\n",
    "##param_grid = [{'max_depth':[9,10,11], 'min_child_weight': range(3,13,3), 'reg_alpha': [0.1,1,5,10], 'reg_lambda': [0.1,1,5,10], 'subsample': [0.6,0.7,0.8]}]\n",
    "##grid_search = RandomizedSearchCV(LGBM_clf, param_grid, n_jobs = jobs, cv = 5, scoring = 'roc_auc')\n",
    "##grid_search.fit(transformed_data,y)\n",
    "##grid_search.best_params_"
   ]
  },
  {
   "cell_type": "code",
   "execution_count": 25,
   "metadata": {},
   "outputs": [],
   "source": [
    "##grid_search.best_score_"
   ]
  },
  {
   "cell_type": "code",
   "execution_count": 26,
   "metadata": {},
   "outputs": [],
   "source": [
    "start = time.time()\n",
    "LGBM_clf = LGBMClassifier(\n",
    "    learning_rate =0.01,\n",
    "    n_estimators= 5000,\n",
    "    num_leaves = 50,\n",
    "    max_depth= 11,\n",
    "    min_split_gain= 0.03,\n",
    "    min_child_weight= 6,\n",
    "    subsample=0.8,\n",
    "    colsample_bytree=0.6,\n",
    "    reg_alpha = 4,\n",
    "    reg_lambda = 5,\n",
    "    verbose =-1,\n",
    "    n_jobs = jobs,\n",
    "    seed=0)\n",
    "\n",
    "res = cross_validate(LGBM_clf, transformed_data,y, scoring=['roc_auc','accuracy'])\n",
    "end = time.time()\n",
    "performance_metrics['LGBM'] = {'roc_auc': np.mean(res['test_roc_auc']),'accuracy':np.mean(res['test_accuracy']),'runtime': end-start}"
   ]
  },
  {
   "cell_type": "markdown",
   "metadata": {},
   "source": [
    "### Comparing model performance with runtime:\n",
    "\n",
    "All of the metrics were obtained with kfold cross-validation, so that they are more robust and closer to the actual test scores."
   ]
  },
  {
   "cell_type": "code",
   "execution_count": 27,
   "metadata": {},
   "outputs": [
    {
     "data": {
      "text/html": [
       "<div>\n",
       "<style scoped>\n",
       "    .dataframe tbody tr th:only-of-type {\n",
       "        vertical-align: middle;\n",
       "    }\n",
       "\n",
       "    .dataframe tbody tr th {\n",
       "        vertical-align: top;\n",
       "    }\n",
       "\n",
       "    .dataframe thead th {\n",
       "        text-align: right;\n",
       "    }\n",
       "</style>\n",
       "<table border=\"1\" class=\"dataframe\">\n",
       "  <thead>\n",
       "    <tr style=\"text-align: right;\">\n",
       "      <th></th>\n",
       "      <th>roc_auc</th>\n",
       "      <th>accuracy</th>\n",
       "      <th>runtime</th>\n",
       "    </tr>\n",
       "  </thead>\n",
       "  <tbody>\n",
       "    <tr>\n",
       "      <th>LGBM</th>\n",
       "      <td>0.790970</td>\n",
       "      <td>0.920126</td>\n",
       "      <td>1788.541508</td>\n",
       "    </tr>\n",
       "    <tr>\n",
       "      <th>random_forest</th>\n",
       "      <td>0.758290</td>\n",
       "      <td>0.919271</td>\n",
       "      <td>1005.142762</td>\n",
       "    </tr>\n",
       "    <tr>\n",
       "      <th>SVC</th>\n",
       "      <td>0.752688</td>\n",
       "      <td>0.915304</td>\n",
       "      <td>12.469002</td>\n",
       "    </tr>\n",
       "    <tr>\n",
       "      <th>logistic_regression_full</th>\n",
       "      <td>0.696794</td>\n",
       "      <td>0.909928</td>\n",
       "      <td>30.610333</td>\n",
       "    </tr>\n",
       "    <tr>\n",
       "      <th>decision_tree</th>\n",
       "      <td>0.617587</td>\n",
       "      <td>0.897792</td>\n",
       "      <td>78.623214</td>\n",
       "    </tr>\n",
       "    <tr>\n",
       "      <th>logistic_regression_l1</th>\n",
       "      <td>0.481147</td>\n",
       "      <td>0.919271</td>\n",
       "      <td>33.661335</td>\n",
       "    </tr>\n",
       "  </tbody>\n",
       "</table>\n",
       "</div>"
      ],
      "text/plain": [
       "                           roc_auc  accuracy      runtime\n",
       "LGBM                      0.790970  0.920126  1788.541508\n",
       "random_forest             0.758290  0.919271  1005.142762\n",
       "SVC                       0.752688  0.915304    12.469002\n",
       "logistic_regression_full  0.696794  0.909928    30.610333\n",
       "decision_tree             0.617587  0.897792    78.623214\n",
       "logistic_regression_l1    0.481147  0.919271    33.661335"
      ]
     },
     "execution_count": 27,
     "metadata": {},
     "output_type": "execute_result"
    }
   ],
   "source": [
    "results = pd.DataFrame(performance_metrics).transpose()\n",
    "results.sort_values(by = ['roc_auc'], ascending= False)"
   ]
  },
  {
   "cell_type": "code",
   "execution_count": 28,
   "metadata": {},
   "outputs": [],
   "source": [
    "results.to_csv('performance_metrics.csv')"
   ]
  },
  {
   "cell_type": "code",
   "execution_count": 29,
   "metadata": {},
   "outputs": [
    {
     "data": {
      "text/plain": [
       "array([0.79043704, 0.79265997, 0.78639598, 0.79160497, 0.7937533 ])"
      ]
     },
     "execution_count": 29,
     "metadata": {},
     "output_type": "execute_result"
    }
   ],
   "source": [
    "## For final model (LGBM):\n",
    "## res['test_roc_auc']"
   ]
  }
 ],
 "metadata": {
  "kernelspec": {
   "display_name": "Python 3.10.6 64-bit",
   "language": "python",
   "name": "python3"
  },
  "language_info": {
   "codemirror_mode": {
    "name": "ipython",
    "version": 3
   },
   "file_extension": ".py",
   "mimetype": "text/x-python",
   "name": "python",
   "nbconvert_exporter": "python",
   "pygments_lexer": "ipython3",
   "version": "3.10.6"
  },
  "orig_nbformat": 4,
  "vscode": {
   "interpreter": {
    "hash": "916dbcbb3f70747c44a77c7bcd40155683ae19c65e1c03b4aa3499c5328201f1"
   }
  }
 },
 "nbformat": 4,
 "nbformat_minor": 2
}
