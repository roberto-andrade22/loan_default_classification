{
 "cells": [
  {
   "cell_type": "code",
   "execution_count": 1,
   "metadata": {},
   "outputs": [],
   "source": [
    "import pandas as pd\n",
    "import numpy as np\n",
    "from sklearn.model_selection import train_test_split\n",
    "from sklearn.metrics import roc_auc_score, accuracy_score, precision_recall_curve\n",
    "from xgboost import XGBClassifier\n",
    "import os\n",
    "\n",
    "jobs = os.cpu_count()-1 ## A lot of power."
   ]
  },
  {
   "cell_type": "code",
   "execution_count": 2,
   "metadata": {},
   "outputs": [],
   "source": [
    "df = pd.read_csv('train_data_processed.csv', index_col = 0)\n",
    "y = df.TARGET.copy()\n",
    "X = df.drop(columns= 'TARGET')\n",
    "X_train, X_test, y_train, y_test = train_test_split(X, y, test_size=0.3, random_state = 0)"
   ]
  },
  {
   "cell_type": "code",
   "execution_count": 6,
   "metadata": {},
   "outputs": [
    {
     "ename": "NameError",
     "evalue": "name 'jobs' is not defined",
     "output_type": "error",
     "traceback": [
      "\u001b[0;31m---------------------------------------------------------------------------\u001b[0m",
      "\u001b[0;31mNameError\u001b[0m                                 Traceback (most recent call last)",
      "Cell \u001b[0;32mIn [6], line 10\u001b[0m\n\u001b[1;32m      1\u001b[0m xgbclf \u001b[39m=\u001b[39m XGBClassifier(\n\u001b[1;32m      2\u001b[0m  learning_rate \u001b[39m=\u001b[39m\u001b[39m0.05\u001b[39m,\n\u001b[1;32m      3\u001b[0m  n_estimators\u001b[39m=\u001b[39m \u001b[39m500\u001b[39m,\n\u001b[1;32m      4\u001b[0m  max_depth\u001b[39m=\u001b[39m \u001b[39m12\u001b[39m,\n\u001b[1;32m      5\u001b[0m  min_child_weight\u001b[39m=\u001b[39m\u001b[39m3\u001b[39m,\n\u001b[1;32m      6\u001b[0m  gamma \u001b[39m=\u001b[39m \u001b[39m0.2\u001b[39m,\n\u001b[1;32m      7\u001b[0m  subsample\u001b[39m=\u001b[39m\u001b[39m0.8\u001b[39m,\n\u001b[1;32m      8\u001b[0m  colsample_bytree\u001b[39m=\u001b[39m\u001b[39m0.8\u001b[39m,\n\u001b[1;32m      9\u001b[0m  objective\u001b[39m=\u001b[39m \u001b[39m'\u001b[39m\u001b[39mbinary:logistic\u001b[39m\u001b[39m'\u001b[39m,\n\u001b[0;32m---> 10\u001b[0m  nthread\u001b[39m=\u001b[39m jobs,\n\u001b[1;32m     11\u001b[0m  scale_pos_weight\u001b[39m=\u001b[39m\u001b[39m1\u001b[39m,\n\u001b[1;32m     12\u001b[0m  seed\u001b[39m=\u001b[39m\u001b[39m0\u001b[39m)\n",
      "\u001b[0;31mNameError\u001b[0m: name 'jobs' is not defined"
     ]
    }
   ],
   "source": [
    "xgbclf = XGBClassifier(\n",
    " learning_rate =0.05,\n",
    " n_estimators= 500,\n",
    " max_depth= 12,\n",
    " min_child_weight=3,\n",
    " gamma = 0.2,\n",
    " subsample=0.8,\n",
    " colsample_bytree=0.8,\n",
    " objective= 'binary:logistic',\n",
    " nthread= jobs,\n",
    " scale_pos_weight=1,\n",
    " seed=0)\n",
    "xgbclf.fit(X_train, y_train)"
   ]
  },
  {
   "cell_type": "code",
   "execution_count": null,
   "metadata": {},
   "outputs": [],
   "source": [
    "predicted_labels = xgbclf.predict(X_test)"
   ]
  }
 ],
 "metadata": {
  "kernelspec": {
   "display_name": "Python 3.10.6 64-bit",
   "language": "python",
   "name": "python3"
  },
  "language_info": {
   "codemirror_mode": {
    "name": "ipython",
    "version": 3
   },
   "file_extension": ".py",
   "mimetype": "text/x-python",
   "name": "python",
   "nbconvert_exporter": "python",
   "pygments_lexer": "ipython3",
   "version": "3.10.6"
  },
  "orig_nbformat": 4,
  "vscode": {
   "interpreter": {
    "hash": "916dbcbb3f70747c44a77c7bcd40155683ae19c65e1c03b4aa3499c5328201f1"
   }
  }
 },
 "nbformat": 4,
 "nbformat_minor": 2
}
