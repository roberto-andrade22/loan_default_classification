{
 "cells": [
  {
   "cell_type": "markdown",
   "metadata": {},
   "source": [
    "### Fifth Model: **XGBoost**"
   ]
  },
  {
   "cell_type": "code",
   "execution_count": null,
   "metadata": {},
   "outputs": [],
   "source": [
    "from xgboost import XGBClassifier\n",
    "import pandas as pd\n",
    "import numpy as np\n",
    "import os\n",
    "import time\n",
    "from sklearn.model_selection import cross_validate\n",
    "from sklearn.model_selection import GridSearchCV\n",
    "\n",
    "jobs = os.cpu_count()-2 ## A lot of power."
   ]
  },
  {
   "cell_type": "code",
   "execution_count": null,
   "metadata": {},
   "outputs": [],
   "source": [
    "df = pd.read_csv('aggregated_train_data.csv', index_col= 0)\n",
    "df.rename(columns = {col: col.lower() for col in df.columns.values}, inplace = True)\n",
    "X = df.drop(columns=['target','sk_id_curr'])\n",
    "y = df.target.copy()\n",
    "\n",
    "performance_metrics = {}"
   ]
  },
  {
   "cell_type": "code",
   "execution_count": null,
   "metadata": {},
   "outputs": [],
   "source": [
    "y.value_counts()[0] / y.value_counts()[1]"
   ]
  },
  {
   "cell_type": "code",
   "execution_count": null,
   "metadata": {},
   "outputs": [],
   "source": [
    "start = time.time()\n",
    "xgbclf = XGBClassifier(\n",
    " learning_rate =0.02,\n",
    " n_estimators= 10000,\n",
    " max_depth= 12,\n",
    " min_child_weight=30,\n",
    " gamma = 0.2,\n",
    " subsample=0.9,\n",
    " colsample_bytree=0.9,\n",
    " reg_alpha = 0.05,\n",
    " reg_lambda = 0.05,\n",
    " verbosity = 0,\n",
    " objective= 'binary:logistic',\n",
    " nthread= jobs,\n",
    " scale_pos_weight= 11,\n",
    " seed=0)\n",
    "res = cross_validate(xgbclf, X,y, scoring=['recall','roc_auc','accuracy'])\n",
    "end = time.time()\n",
    "performance_metrics['xgboost'] = {'recall' : np.mean(res['test_recall']),'roc_auc': np.mean(res['test_roc_auc']),'accuracy':np.mean(res['test_accuracy']),'runtime': end-start}"
   ]
  }
 ],
 "metadata": {
  "kernelspec": {
   "display_name": "Python 3.10.6 64-bit",
   "language": "python",
   "name": "python3"
  },
  "language_info": {
   "name": "python",
   "version": "3.10.6"
  },
  "orig_nbformat": 4,
  "vscode": {
   "interpreter": {
    "hash": "916dbcbb3f70747c44a77c7bcd40155683ae19c65e1c03b4aa3499c5328201f1"
   }
  }
 },
 "nbformat": 4,
 "nbformat_minor": 2
}
